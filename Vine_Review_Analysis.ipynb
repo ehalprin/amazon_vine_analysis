{
  "nbformat": 4,
  "nbformat_minor": 0,
  "metadata": {
    "colab": {
      "provenance": []
    },
    "kernelspec": {
      "name": "python3",
      "display_name": "Python 3"
    },
    "language_info": {
      "name": "python"
    }
  },
  "cells": [
    {
      "cell_type": "code",
      "execution_count": 1,
      "metadata": {
        "colab": {
          "base_uri": "https://localhost:8080/"
        },
        "id": "yOf8gq7wDdW9",
        "outputId": "33fb3056-1fa6-4993-8e26-2d49c1b73487"
      },
      "outputs": [
        {
          "output_type": "stream",
          "name": "stdout",
          "text": [
            "\r0% [Working]\r            \rGet:1 https://cloud.r-project.org/bin/linux/ubuntu bionic-cran40/ InRelease [3,626 B]\n",
            "\r0% [Connecting to archive.ubuntu.com (185.125.190.39)] [Waiting for headers] [1\r0% [Connecting to archive.ubuntu.com (185.125.190.39)] [Waiting for headers] [C\r0% [1 InRelease gpgv 3,626 B] [Waiting for headers] [Waiting for headers] [Conn\r                                                                               \rGet:2 http://security.ubuntu.com/ubuntu bionic-security InRelease [88.7 kB]\n",
            "Get:3 http://ppa.launchpad.net/c2d4u.team/c2d4u4.0+/ubuntu bionic InRelease [15.9 kB]\n",
            "Hit:4 http://archive.ubuntu.com/ubuntu bionic InRelease\n",
            "Get:5 http://archive.ubuntu.com/ubuntu bionic-updates InRelease [88.7 kB]\n",
            "Hit:6 http://ppa.launchpad.net/cran/libgit2/ubuntu bionic InRelease\n",
            "Get:7 https://cloud.r-project.org/bin/linux/ubuntu bionic-cran40/ Packages [92.1 kB]\n",
            "Hit:8 http://ppa.launchpad.net/deadsnakes/ppa/ubuntu bionic InRelease\n",
            "Get:9 http://archive.ubuntu.com/ubuntu bionic-backports InRelease [74.6 kB]\n",
            "Hit:10 http://ppa.launchpad.net/graphics-drivers/ppa/ubuntu bionic InRelease\n",
            "Ign:11 https://developer.download.nvidia.com/compute/machine-learning/repos/ubuntu1804/x86_64  InRelease\n",
            "Hit:12 https://developer.download.nvidia.com/compute/cuda/repos/ubuntu1804/x86_64  InRelease\n",
            "Get:13 http://ppa.launchpad.net/c2d4u.team/c2d4u4.0+/ubuntu bionic/main Sources [2,108 kB]\n",
            "Hit:14 https://developer.download.nvidia.com/compute/machine-learning/repos/ubuntu1804/x86_64  Release\n",
            "Get:15 http://security.ubuntu.com/ubuntu bionic-security/universe amd64 Packages [1,540 kB]\n",
            "Get:16 http://ppa.launchpad.net/c2d4u.team/c2d4u4.0+/ubuntu bionic/main amd64 Packages [1,080 kB]\n",
            "Get:17 http://security.ubuntu.com/ubuntu bionic-security/main amd64 Packages [2,965 kB]\n",
            "Get:18 http://archive.ubuntu.com/ubuntu bionic-updates/main amd64 Packages [3,397 kB]\n",
            "Get:19 http://archive.ubuntu.com/ubuntu bionic-updates/universe amd64 Packages [2,318 kB]\n",
            "Fetched 13.8 MB in 5s (2,901 kB/s)\n",
            "Reading package lists... Done\n"
          ]
        }
      ],
      "source": [
        "import os\n",
        "# Find the latest version of spark 3.0  from http://www.apache.org/dist/spark/ and enter as the spark version\n",
        "# For example:\n",
        "# spark_version = 'spark-3.0.3'\n",
        "spark_version = 'spark-3.3.0'\n",
        "os.environ['SPARK_VERSION']=spark_version\n",
        "\n",
        "# Install Spark and Java\n",
        "!apt-get update\n",
        "!apt-get install openjdk-11-jdk-headless -qq > /dev/null\n",
        "!wget -q http://www.apache.org/dist/spark/$SPARK_VERSION/$SPARK_VERSION-bin-hadoop3.tgz\n",
        "!tar xf $SPARK_VERSION-bin-hadoop3.tgz\n",
        "!pip install -q findspark\n",
        "\n",
        "# Set Environment Variables\n",
        "import os\n",
        "os.environ[\"JAVA_HOME\"] = \"/usr/lib/jvm/java-11-openjdk-amd64\"\n",
        "os.environ[\"SPARK_HOME\"] = f\"/content/{spark_version}-bin-hadoop3\"\n",
        "\n",
        "# Start a SparkSession\n",
        "import findspark\n",
        "findspark.init() "
      ]
    },
    {
      "cell_type": "code",
      "source": [
        "from pyspark.sql import SparkSession\n",
        "spark = SparkSession.builder.appName(\"Vine_Review_Analysis\").config(\"spark.driver.extraClassPath\",\"/content/postgresql-42.2.16.jar\").getOrCreate()"
      ],
      "metadata": {
        "id": "md6IZojoDtJk"
      },
      "execution_count": 2,
      "outputs": []
    },
    {
      "cell_type": "code",
      "source": [
        "from pyspark import SparkFiles\n",
        "url = \"https://s3.amazonaws.com/amazon-reviews-pds/tsv/amazon_reviews_us_Pet_Products_v1_00.tsv.gz\"\n",
        "spark.sparkContext.addFile(url)\n",
        "df = spark.read.option(\"encoding\", \"UTF-8\").csv(SparkFiles.get(\"\"), sep=\"\\t\", header=True, inferSchema=True)\n",
        "df.show()"
      ],
      "metadata": {
        "colab": {
          "base_uri": "https://localhost:8080/"
        },
        "id": "OcSDwCZEDvc1",
        "outputId": "4eda073e-a803-47ea-9782-7c1ca92b50ef"
      },
      "execution_count": 3,
      "outputs": [
        {
          "output_type": "stream",
          "name": "stdout",
          "text": [
            "+-----------+-----------+--------------+----------+--------------+--------------------+----------------+-----------+-------------+-----------+----+-----------------+--------------------+--------------------+-------------------+\n",
            "|marketplace|customer_id|     review_id|product_id|product_parent|       product_title|product_category|star_rating|helpful_votes|total_votes|vine|verified_purchase|     review_headline|         review_body|        review_date|\n",
            "+-----------+-----------+--------------+----------+--------------+--------------------+----------------+-----------+-------------+-----------+----+-----------------+--------------------+--------------------+-------------------+\n",
            "|         US|   28794885| REAKC26P07MDN|B00Q0K9604|     510387886|(8-Pack) EZwhelp ...|    Pet Products|          5|            0|          0|   N|                Y|A great purchase ...|Best belly bands ...|2015-08-31 00:00:00|\n",
            "|         US|   11488901|R3NU7OMZ4HQIEG|B00MBW5O9W|     912374672|Warren Eckstein's...|    Pet Products|          2|            0|          1|   N|                Y|My dogs love Hugs...|My dogs love Hugs...|2015-08-31 00:00:00|\n",
            "|         US|   43214993|R14QJW3XF8QO1P|B0084OHUIO|     902215727|Tyson's True Chew...|    Pet Products|          5|            0|          0|   N|                Y|I have been purch...|I have been purch...|2015-08-31 00:00:00|\n",
            "|         US|   12835065|R2HB7AX0394ZGY|B001GS71K2|     568880110|Soft Side Pet Cra...|    Pet Products|          5|            0|          0|   N|                Y|it is easy to ope...|It is extremely w...|2015-08-31 00:00:00|\n",
            "|         US|   26334022| RGKMPDQGSAHR3|B004ABH1LG|     692846826|EliteField 3-Door...|    Pet Products|          5|            0|          0|   N|                Y|           Dog crate|Worked really wel...|2015-08-31 00:00:00|\n",
            "|         US|   22283621|R1DJCVPQGCV66E|B00AX0LFM4|     590674141|Carlson 68-Inch W...|    Pet Products|          5|            0|          0|   N|                Y|          Five Stars|I love my gates! ...|2015-08-31 00:00:00|\n",
            "|         US|   14469895|R3V52EAWLPBFQG|B00DQFZGZ0|     688538603|Dog Seat Cover Wi...|    Pet Products|          3|            0|          0|   N|                Y|Seat belt tugs on...|Didn't quite work...|2015-08-31 00:00:00|\n",
            "|         US|   50896354|R3DKO8J1J28QBI|B00DIRF9US|     742358789|The Bird Catcher ...|    Pet Products|          2|            0|          0|   N|                Y|Great Pole, but S...|I had the origina...|2015-08-31 00:00:00|\n",
            "|         US|   18440567| R764DBXGRNECG|B00JRCBFUG|     869798483|Cat Bed - Purrfec...|    Pet Products|          5|            1|          1|   N|                N|     My cat loves it|The pad is very s...|2015-08-31 00:00:00|\n",
            "|         US|   50502362| RW1853GAT0Z9F|B000L3XYZ4|     501118658|PetSafe Drinkwell...|    Pet Products|          5|            0|          0|   N|                Y|          Five Stars|My cat drinks mor...|2015-08-31 00:00:00|\n",
            "|         US|   33930128|R33GITXNUF1AD4|B00BOEXWFG|     454737777|Contech ZenDog Ca...|    Pet Products|          2|            0|          0|   N|                Y|Also had to pull ...|Much smaller than...|2015-08-31 00:00:00|\n",
            "|         US|   43534290|R1H7AVM81TAYRV|B001HBBQKY|     420905252|Wellness Crunchy ...|    Pet Products|          1|            2|          2|   N|                Y|DO NOT PURCHASE -...|I used to love th...|2015-08-31 00:00:00|\n",
            "|         US|   45555864|R2ZOYAQZNNZZWV|B007O1FHB0|     302588963|Rx Vitamins Essen...|    Pet Products|          5|            0|          0|   N|                Y|          Five Stars|Recommended by my...|2015-08-31 00:00:00|\n",
            "|         US|   11147406|R2FN1H3CGW6J8H|B001P3NU30|     525778264|Virbac C.E.T. Enz...|    Pet Products|          1|            0|          0|   N|                Y|Received wrong pr...|Yes I  ordered fo...|2015-08-31 00:00:00|\n",
            "|         US|    6495678| RJB41Q575XNG4|B00ZP6HS6S|     414117299|Kitty Shack - 2 i...|    Pet Products|          5|            0|          3|   N|                Y|          Five Stars|      It falls apart|2015-08-31 00:00:00|\n",
            "|         US|    2019416|R28W8BM1587CPF|B00IP05CUA|     833937853|Wellness Kittles ...|    Pet Products|          5|            0|          0|   N|                Y|kitty is ravenous...|My cat really lov...|2015-08-31 00:00:00|\n",
            "|         US|   40459386|R1II0M01NIG293|B001U8Y598|      85343577|OmniPet Anti-Ant ...|    Pet Products|          2|            0|          0|   N|                N|Maybe other speci...|This bowl is not ...|2015-08-31 00:00:00|\n",
            "|         US|   23126800| RMB8N0DBRH34O|B011AY4JWO|     499241195|K9KONNECTION [New...|    Pet Products|          5|            1|          1|   N|                Y|This works, dog n...|I have a small do...|2015-08-31 00:00:00|\n",
            "|         US|   30238476|R24WB6A6WVIPU6|B00DDSHE5A|     409532388|SUNSEED COMPANY 3...|    Pet Products|          5|            0|          0|   N|                Y|    Yummy for Bunny!|Bunny loves it! E...|2015-08-31 00:00:00|\n",
            "|         US|   35113999| ROCJSH0P9YSRW|B00PJW5OR8|     259271919|CXB1983(TM)Cute P...|    Pet Products|          5|            0|          0|   N|                Y|excellent price, ...|Petfect,,quality ...|2015-08-31 00:00:00|\n",
            "+-----------+-----------+--------------+----------+--------------+--------------------+----------------+-----------+-------------+-----------+----+-----------------+--------------------+--------------------+-------------------+\n",
            "only showing top 20 rows\n",
            "\n"
          ]
        }
      ]
    },
    {
      "cell_type": "code",
      "source": [
        "# Create the vine_table. DataFrame\n",
        "vine_df = df.select([\"review_id\", \"star_rating\", \"helpful_votes\", \"total_votes\", \"vine\", \"verified_purchase\"])\n",
        "vine_df.show()"
      ],
      "metadata": {
        "colab": {
          "base_uri": "https://localhost:8080/"
        },
        "id": "Vr1fuw2aDyHI",
        "outputId": "39c5491c-a1d0-42fa-9119-69adab5972a8"
      },
      "execution_count": 6,
      "outputs": [
        {
          "output_type": "stream",
          "name": "stdout",
          "text": [
            "+--------------+-----------+-------------+-----------+----+-----------------+\n",
            "|     review_id|star_rating|helpful_votes|total_votes|vine|verified_purchase|\n",
            "+--------------+-----------+-------------+-----------+----+-----------------+\n",
            "| REAKC26P07MDN|          5|            0|          0|   N|                Y|\n",
            "|R3NU7OMZ4HQIEG|          2|            0|          1|   N|                Y|\n",
            "|R14QJW3XF8QO1P|          5|            0|          0|   N|                Y|\n",
            "|R2HB7AX0394ZGY|          5|            0|          0|   N|                Y|\n",
            "| RGKMPDQGSAHR3|          5|            0|          0|   N|                Y|\n",
            "|R1DJCVPQGCV66E|          5|            0|          0|   N|                Y|\n",
            "|R3V52EAWLPBFQG|          3|            0|          0|   N|                Y|\n",
            "|R3DKO8J1J28QBI|          2|            0|          0|   N|                Y|\n",
            "| R764DBXGRNECG|          5|            1|          1|   N|                N|\n",
            "| RW1853GAT0Z9F|          5|            0|          0|   N|                Y|\n",
            "|R33GITXNUF1AD4|          2|            0|          0|   N|                Y|\n",
            "|R1H7AVM81TAYRV|          1|            2|          2|   N|                Y|\n",
            "|R2ZOYAQZNNZZWV|          5|            0|          0|   N|                Y|\n",
            "|R2FN1H3CGW6J8H|          1|            0|          0|   N|                Y|\n",
            "| RJB41Q575XNG4|          5|            0|          3|   N|                Y|\n",
            "|R28W8BM1587CPF|          5|            0|          0|   N|                Y|\n",
            "|R1II0M01NIG293|          2|            0|          0|   N|                N|\n",
            "| RMB8N0DBRH34O|          5|            1|          1|   N|                Y|\n",
            "|R24WB6A6WVIPU6|          5|            0|          0|   N|                Y|\n",
            "| ROCJSH0P9YSRW|          5|            0|          0|   N|                Y|\n",
            "+--------------+-----------+-------------+-----------+----+-----------------+\n",
            "only showing top 20 rows\n",
            "\n"
          ]
        }
      ]
    },
    {
      "cell_type": "code",
      "source": [
        "# Filter the data and create a new DataFrame to retrieve all the rows where total_votes count is equal to or greater than 20\n",
        "\n",
        "high_votes_df = vine_df[vine_df[\"total_votes\"] >= 20]\n",
        "high_votes_df.sort(\"total_votes\", ascending=True).show()"
      ],
      "metadata": {
        "colab": {
          "base_uri": "https://localhost:8080/"
        },
        "id": "Ov44PDuMD_2H",
        "outputId": "e4bd7d79-2b84-4c12-850c-cce70f4368dd"
      },
      "execution_count": 7,
      "outputs": [
        {
          "output_type": "stream",
          "name": "stdout",
          "text": [
            "+--------------+-----------+-------------+-----------+----+-----------------+\n",
            "|     review_id|star_rating|helpful_votes|total_votes|vine|verified_purchase|\n",
            "+--------------+-----------+-------------+-----------+----+-----------------+\n",
            "|R2VAO76275GRHU|          5|           20|         20|   N|                Y|\n",
            "|R37NBD652CWUD3|          5|           16|         20|   N|                Y|\n",
            "| RKWUQZYJBZX7K|          5|           20|         20|   N|                Y|\n",
            "|R2WYZJIBXGPZ5N|          1|           16|         20|   N|                Y|\n",
            "| RW8Q6B2KN43LO|          5|           20|         20|   N|                N|\n",
            "| RW47OAPTH46S2|          1|           19|         20|   N|                Y|\n",
            "| RNKK5KFNZBXGI|          2|           19|         20|   N|                Y|\n",
            "| RAHM9DB2ENJR8|          5|           17|         20|   N|                N|\n",
            "|R1B0AR7UUBIZ8P|          5|           20|         20|   N|                N|\n",
            "|R33BS2KAL7W37Z|          5|           20|         20|   N|                N|\n",
            "|R3KSJQ2AXKLFM6|          5|           17|         20|   N|                Y|\n",
            "|R3PZVHFJ2WSSLD|          5|           19|         20|   N|                Y|\n",
            "| R1AOOGIORXPL4|          1|           19|         20|   N|                N|\n",
            "|R1AV95QVELKJIK|          5|           19|         20|   N|                Y|\n",
            "|R39Z8B2HFN97B4|          1|           19|         20|   N|                Y|\n",
            "|R2IYG1A093621M|          5|           20|         20|   N|                Y|\n",
            "|R1LUL3KDM93UUM|          1|           19|         20|   N|                Y|\n",
            "|R2VV9KHN00PTKO|          5|           20|         20|   N|                N|\n",
            "|R2ZD9T8JI33KXF|          5|           19|         20|   N|                Y|\n",
            "|R1CX0EJWOICVJY|          4|           20|         20|   N|                Y|\n",
            "+--------------+-----------+-------------+-----------+----+-----------------+\n",
            "only showing top 20 rows\n",
            "\n"
          ]
        }
      ]
    },
    {
      "cell_type": "code",
      "source": [
        "# Create dataframe to retrieve all rows where the percent of helpful votes is greater than or equal to 50%\n",
        "most_helpful_df = high_votes_df.withColumn('percent_helpful', (high_votes_df['helpful_votes'] / high_votes_df['total_votes']) * 100)\n",
        "most_helpful_df = most_helpful_df[most_helpful_df[\"percent_helpful\"] >= 50]\n",
        "most_helpful_df.sort(\"percent_helpful\", ascending=True).show()"
      ],
      "metadata": {
        "colab": {
          "base_uri": "https://localhost:8080/"
        },
        "id": "OuqMFehdEBvn",
        "outputId": "9639a156-8e10-408e-f844-2376af5d6cf0"
      },
      "execution_count": 8,
      "outputs": [
        {
          "output_type": "stream",
          "name": "stdout",
          "text": [
            "+--------------+-----------+-------------+-----------+----+-----------------+---------------+\n",
            "|     review_id|star_rating|helpful_votes|total_votes|vine|verified_purchase|percent_helpful|\n",
            "+--------------+-----------+-------------+-----------+----+-----------------+---------------+\n",
            "|R2FOR0B8GANVAF|          1|           18|         36|   N|                N|           50.0|\n",
            "|R37158XJ9QX9KK|          2|           11|         22|   N|                Y|           50.0|\n",
            "|R2OQACGJNYX822|          1|           10|         20|   N|                Y|           50.0|\n",
            "| RWBLD0O1LA0YP|          1|           10|         20|   N|                Y|           50.0|\n",
            "|R2X2Z4U33JN75Q|          3|           13|         26|   N|                N|           50.0|\n",
            "|R2WUDEIKR0FEUA|          1|           10|         20|   N|                N|           50.0|\n",
            "| R1JDT6X3HJCB9|          4|           13|         26|   N|                N|           50.0|\n",
            "|R21LFR7KRZE10J|          5|           12|         24|   N|                Y|           50.0|\n",
            "|R1PPX75RHFIRV5|          5|           20|         40|   N|                Y|           50.0|\n",
            "|R2AHITUY0Z3WB1|          2|           12|         24|   N|                Y|           50.0|\n",
            "| RI9SZEVCMROTM|          3|           10|         20|   N|                Y|           50.0|\n",
            "|R1Q1SDA8G1KS04|          1|           15|         30|   N|                Y|           50.0|\n",
            "| R3491NTPDNMDU|          2|           12|         24|   N|                Y|           50.0|\n",
            "| ROEZH4BTEUGKC|          1|           10|         20|   N|                N|           50.0|\n",
            "|R2JMEJCD6YTM47|          5|           14|         28|   N|                Y|           50.0|\n",
            "|R2OZTD7N6OA465|          1|           12|         24|   N|                N|           50.0|\n",
            "| R8VPRO9ZOCTGM|          1|           10|         20|   N|                Y|           50.0|\n",
            "|R3AXNA5QBAODE1|          1|           16|         32|   N|                N|           50.0|\n",
            "|R255RJTN0LTEFE|          2|           10|         20|   N|                Y|           50.0|\n",
            "| R91F3DOWK03NB|          1|           14|         28|   N|                N|           50.0|\n",
            "+--------------+-----------+-------------+-----------+----+-----------------+---------------+\n",
            "only showing top 20 rows\n",
            "\n"
          ]
        }
      ]
    },
    {
      "cell_type": "code",
      "source": [
        "# Create dataframe that retrieves all the rows where a review was written as part of the Vine proram\n",
        "vine_program_df = most_helpful_df[most_helpful_df['vine'] == 'Y']\n",
        "vine_program_df.show()"
      ],
      "metadata": {
        "colab": {
          "base_uri": "https://localhost:8080/"
        },
        "id": "A3p26oA4EL_a",
        "outputId": "95fd43ed-ad45-4a61-fbdd-ad5d215bf012"
      },
      "execution_count": 9,
      "outputs": [
        {
          "output_type": "stream",
          "name": "stdout",
          "text": [
            "+--------------+-----------+-------------+-----------+----+-----------------+-----------------+\n",
            "|     review_id|star_rating|helpful_votes|total_votes|vine|verified_purchase|  percent_helpful|\n",
            "+--------------+-----------+-------------+-----------+----+-----------------+-----------------+\n",
            "|R3A71VR1JZD8WF|          2|           27|         30|   Y|                N|             90.0|\n",
            "|R16OMUJIGI18JZ|          5|           72|         72|   Y|                N|            100.0|\n",
            "|R3TS8ZP2FHQ9XR|          5|           39|         42|   Y|                N|92.85714285714286|\n",
            "|R2MHP919VZN7DI|          5|           29|         30|   Y|                N|96.66666666666667|\n",
            "| RD2BCTVS59A5L|          2|           20|         20|   Y|                N|            100.0|\n",
            "|R1JUJLXQ2CMWKF|          4|           25|         26|   Y|                N|96.15384615384616|\n",
            "|R2T7YE0IFI6N9L|          3|           24|         25|   Y|                N|             96.0|\n",
            "|R25FI3J7WWOYXM|          3|           55|         58|   Y|                N|94.82758620689656|\n",
            "|R3P3U4EOWIUD50|          3|           27|         36|   Y|                N|             75.0|\n",
            "|R3C7MKX7MO6XUC|          5|          216|        219|   Y|                N|98.63013698630137|\n",
            "|R1DFDDK1ZWKN3D|          2|           61|         65|   Y|                N|93.84615384615384|\n",
            "|R38G7BRBA2LGGV|          3|           47|         54|   Y|                N|87.03703703703704|\n",
            "|R2XQXWNEBSB9WO|          4|           52|         56|   Y|                N|92.85714285714286|\n",
            "|R1UFK241B2KN48|          4|          375|        378|   Y|                N|99.20634920634922|\n",
            "|R3H9CGK58BVHI5|          4|           42|         46|   Y|                N|91.30434782608695|\n",
            "|R3FKBT77ZTUPLQ|          5|           15|         20|   Y|                N|             75.0|\n",
            "|R3NSXBUR3O1CE8|          5|           21|         22|   Y|                N|95.45454545454545|\n",
            "|R13JI50KH7BTBU|          4|           29|         30|   Y|                N|96.66666666666667|\n",
            "|R2LWQUQ6KB5ZN5|          4|           29|         36|   Y|                Y|80.55555555555556|\n",
            "|R1JORBU2J7HG3H|          5|           22|         25|   Y|                N|             88.0|\n",
            "+--------------+-----------+-------------+-----------+----+-----------------+-----------------+\n",
            "only showing top 20 rows\n",
            "\n"
          ]
        }
      ]
    },
    {
      "cell_type": "code",
      "source": [
        "# Create dataframe that retrieves all the rows where a review was NOT part of the Vine proram\n",
        "not_vine_df = most_helpful_df[most_helpful_df['vine'] == 'N']\n",
        "not_vine_df.show()"
      ],
      "metadata": {
        "colab": {
          "base_uri": "https://localhost:8080/"
        },
        "id": "85T8Ac0JEOlw",
        "outputId": "c8fb958e-ceb3-4073-ae6d-873b8204945d"
      },
      "execution_count": 10,
      "outputs": [
        {
          "output_type": "stream",
          "name": "stdout",
          "text": [
            "+--------------+-----------+-------------+-----------+----+-----------------+-----------------+\n",
            "|     review_id|star_rating|helpful_votes|total_votes|vine|verified_purchase|  percent_helpful|\n",
            "+--------------+-----------+-------------+-----------+----+-----------------+-----------------+\n",
            "|R21KC552Y6HL8X|          1|           27|         31|   N|                Y|87.09677419354838|\n",
            "| RX9WC9FTIR1XR|          5|           25|         25|   N|                Y|            100.0|\n",
            "| RGDCOU1KBHMNG|          3|           29|         31|   N|                Y|93.54838709677419|\n",
            "| RVTYWID2TPMMY|          2|           35|         42|   N|                Y|83.33333333333334|\n",
            "|R2CMPZ5VESGRLY|          4|           27|         28|   N|                Y|96.42857142857143|\n",
            "|R3VQPJZ54B55BA|          5|           62|         64|   N|                N|           96.875|\n",
            "|R24QM6D7FEDZ5M|          2|           36|         43|   N|                Y|83.72093023255815|\n",
            "|R3A1VQ3SQDXEJ3|          5|           20|         20|   N|                Y|            100.0|\n",
            "|  R39GSNW76GYF|          1|           20|         23|   N|                Y|86.95652173913044|\n",
            "| RPJLR6MFDPXXE|          5|           35|         36|   N|                Y|97.22222222222221|\n",
            "|R34X0ZGVB3YGYO|          5|           47|         47|   N|                Y|            100.0|\n",
            "|R2C9O1BOV14Q0Z|          1|           62|         79|   N|                Y|78.48101265822784|\n",
            "| RM6ZH5J3XDNHK|          5|           79|         87|   N|                Y|90.80459770114942|\n",
            "|R2E363K75EMW4K|          5|           66|         69|   N|                Y|95.65217391304348|\n",
            "|R2VJII8VKSJHDF|          1|           24|         29|   N|                N|82.75862068965517|\n",
            "|R2U35Y2P27M13E|          1|           43|         45|   N|                Y|95.55555555555556|\n",
            "| RLMZOQL11VHBX|          5|           23|         24|   N|                Y|95.83333333333334|\n",
            "|R3C6CQQRRA8SYP|          5|           52|         58|   N|                Y|89.65517241379311|\n",
            "|R3T7YOX0AEDZL3|          1|           45|         47|   N|                N|95.74468085106383|\n",
            "|R176V3AYS3R4HG|          5|           26|         27|   N|                N|96.29629629629629|\n",
            "+--------------+-----------+-------------+-----------+----+-----------------+-----------------+\n",
            "only showing top 20 rows\n",
            "\n"
          ]
        }
      ]
    },
    {
      "cell_type": "code",
      "source": [
        "# Determine the total number of reviews, the number of 5-star reviews, and the percentage of 5 start reviews for the two types of review\n",
        "columns = [\"program_status\", \"total_reviews\", \"five_star_reviews\", \"percent_five_star\"]\n",
        "vine_total = vine_program_df.count()\n",
        "not_vine_total = not_vine_df.count()\n",
        "vine_5_star = (vine_program_df[vine_program_df[\"star_rating\"] == 5]).count()\n",
        "not_vine_5_star = (not_vine_df[not_vine_df[\"star_rating\"] == 5]).count()\n",
        "vine_percent_5 = (vine_5_star / vine_total) * 100\n",
        "not_vine_percent_5 = (not_vine_5_star / not_vine_total) * 100\n",
        "data = [[\"Vine Program\", vine_total, vine_5_star, vine_percent_5],\n",
        "        [\"Not in Vine Program\", not_vine_total, not_vine_5_star, not_vine_percent_5]]\n",
        "summary_df = spark.createDataFrame(data, columns)\n",
        "summary_df.show()"
      ],
      "metadata": {
        "colab": {
          "base_uri": "https://localhost:8080/"
        },
        "id": "IKdESPtaERLp",
        "outputId": "9692a3d2-9910-459d-f750-954b173427d9"
      },
      "execution_count": 11,
      "outputs": [
        {
          "output_type": "stream",
          "name": "stdout",
          "text": [
            "+-------------------+-------------+-----------------+------------------+\n",
            "|     program_status|total_reviews|five_star_reviews| percent_five_star|\n",
            "+-------------------+-------------+-----------------+------------------+\n",
            "|       Vine Program|          170|               65| 38.23529411764706|\n",
            "|Not in Vine Program|        37840|            20612|54.471458773784356|\n",
            "+-------------------+-------------+-----------------+------------------+\n",
            "\n"
          ]
        }
      ]
    },
    {
      "cell_type": "code",
      "source": [],
      "metadata": {
        "id": "9mOvOIBOETh4"
      },
      "execution_count": null,
      "outputs": []
    }
  ]
}